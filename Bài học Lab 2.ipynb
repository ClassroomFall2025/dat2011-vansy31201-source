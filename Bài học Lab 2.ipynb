{
 "cells": [
  {
   "cell_type": "code",
   "execution_count": 3,
   "metadata": {},
   "outputs": [
    {
     "name": "stdout",
     "output_type": "stream",
     "text": [
      "Kết quả từ python trong text: python\n"
     ]
    }
   ],
   "source": [
    "text = \"Lập trình python rất dễ\"\n",
    "index1 = text.find(\"python\")\n",
    "len_python = len(\"python\")\n",
    "index2 = index1 + len_python\n",
    "ketqua = text[index1:index2]\n",
    "print(\"Kết quả từ python trong text:\", ketqua)"
   ]
  },
  {
   "cell_type": "code",
   "execution_count": 5,
   "metadata": {},
   "outputs": [
    {
     "name": "stdout",
     "output_type": "stream",
     "text": [
      "Lập trình python rất dễ, Tôi cũng muốn học Python\n"
     ]
    }
   ],
   "source": [
    "# toán tử cộng để nối chuỗi\n",
    "text = \"Lập trình python rất dễ\"\n",
    "text1 = \"Tôi cũng muốn học Python\"\n",
    "text2 = text + \", \" + text1\n",
    "print(text2)"
   ]
  },
  {
   "cell_type": "code",
   "execution_count": 7,
   "metadata": {},
   "outputs": [
    {
     "name": "stdout",
     "output_type": "stream",
     "text": [
      "True\n",
      "Lập trình Java rất dễ\n"
     ]
    }
   ],
   "source": [
    "# tìm từ có hay không trong một chuỗi\n",
    "text = \"Lập trình python rất dễ\"\n",
    "ketqua = \"python\" in text\n",
    "print(ketqua)\n",
    "text_moi = text.replace(\"python\", \"Java\") # thay đổi từ trong chuỗi\n",
    "print(text_moi)"
   ]
  },
  {
   "cell_type": "code",
   "execution_count": 10,
   "metadata": {},
   "outputs": [
    {
     "name": "stdout",
     "output_type": "stream",
     "text": [
      "Bạn chưa đủ tuổi\n"
     ]
    }
   ],
   "source": [
    "# lệnh if - elif - else\n",
    "age = int(input(\"Nhập số tuổi của bạn: \"))\n",
    "\n",
    "if age >= 18:\n",
    "    print(\"Bạn đã đủ tuổi\")\n",
    "    print(\"Bạn hãy thực hiện NVQS nếu là Nam\")\n",
    "    print(\"Bạn được quyển sử dụng rượu bia\")\n",
    "else:\n",
    "    print(\"Bạn chưa đủ tuổi\")"
   ]
  },
  {
   "cell_type": "code",
   "execution_count": 15,
   "metadata": {},
   "outputs": [
    {
     "name": "stdout",
     "output_type": "stream",
     "text": [
      "Thương của hai số 0.0 / 4.0 = 0.0\n"
     ]
    }
   ],
   "source": [
    "so1 = float(input(\"Nhập số thứ nhất: \"))\n",
    "so2 = float(input(\"Nhập số thứ hai: \"))\n",
    "toantu = input(\"Nhập phép toán cần tính: +,-,*,/\")\n",
    "\n",
    "if toantu == \"+\":\n",
    "    ketqua = so1 + so2\n",
    "    print(f\"tổng của hai số {so1} + {so2} = {ketqua}\")\n",
    "if toantu == \"-\":\n",
    "    ketqua = so1 - so2\n",
    "    print(f\"Hiệu của hai số {so1} - {so2} = {ketqua}\")\n",
    "if toantu == \"*\":\n",
    "    ketqua = so1 * so2\n",
    "    print(f\"Tích của hai số {so1} * {so2} = {ketqua}\")\n",
    "# if toantu == \"/\":\n",
    "#     ketqua = so1 / so2\n",
    "#     print(f\"Thương của hai số {so1} / {so2} = {ketqua}\")\n",
    "if toantu == \"/\" and so2 != 0: # toán tử and kết quả được ra khi 2 bên là true.\n",
    "    ketqua = so1 / so2\n",
    "    print(f\"Thương của hai số {so1} / {so2} = {ketqua}\")"
   ]
  },
  {
   "cell_type": "code",
   "execution_count": 20,
   "metadata": {},
   "outputs": [
    {
     "name": "stdout",
     "output_type": "stream",
     "text": [
      "Toán tử không hợp lệ\n"
     ]
    }
   ],
   "source": [
    "so1 = float(input(\"Nhập số thứ nhất: \"))\n",
    "so2 = float(input(\"Nhập số thứ hai: \"))\n",
    "toantu = input(\"Nhập phép toán cần tính: +,-,*,/\")\n",
    "\n",
    "if toantu == \"+\":\n",
    "    ketqua = so1 + so2\n",
    "    print(f\"tổng của hai số {so1} + {so2} = {ketqua}\")\n",
    "elif toantu == \"-\":\n",
    "    ketqua = so1 - so2\n",
    "    print(f\"Hiệu của hai số {so1} - {so2} = {ketqua}\")\n",
    "elif toantu == \"*\":\n",
    "    ketqua = so1 * so2\n",
    "    print(f\"Tích của hai số {so1} * {so2} = {ketqua}\")\n",
    "elif toantu == \"/\":\n",
    "    if so2 != 0: # if lòng\n",
    "        ketqua = so1/so2\n",
    "        print(f\"thương 2 số {so1} / {so2} = {ketqua}\")\n",
    "    else:\n",
    "        print(\"Không thể chia cho 0\")\n",
    "else:\n",
    "    print(\"Toán tử không hợp lệ\")"
   ]
  }
 ],
 "metadata": {
  "kernelspec": {
   "display_name": "Python 3",
   "language": "python",
   "name": "python3"
  },
  "language_info": {
   "codemirror_mode": {
    "name": "ipython",
    "version": 3
   },
   "file_extension": ".py",
   "mimetype": "text/x-python",
   "name": "python",
   "nbconvert_exporter": "python",
   "pygments_lexer": "ipython3",
   "version": "3.12.6"
  }
 },
 "nbformat": 4,
 "nbformat_minor": 2
}
