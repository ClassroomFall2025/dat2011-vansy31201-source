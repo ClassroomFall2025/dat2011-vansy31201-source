{
 "cells": [
  {
   "cell_type": "markdown",
   "id": "fdeff819",
   "metadata": {},
   "source": [
    "# Sinh Viên thực hiện Lab 4 ở Đây"
   ]
  },
  {
   "cell_type": "markdown",
   "id": "acc5d7dc",
   "metadata": {},
   "source": [
    "## Lab 4 - Bài 1"
   ]
  },
  {
   "cell_type": "code",
   "execution_count": 1,
   "id": "001e0507",
   "metadata": {},
   "outputs": [
    {
     "name": "stdout",
     "output_type": "stream",
     "text": [
      "Tính tiền nước sinh hoạt.\n",
      "Số tiền nước phải trả: 32 là 331000\n"
     ]
    }
   ],
   "source": [
    "# Code lab 4 bài 1 ở đây\n",
    "from lab4 import tinh_tien_nuoc\n",
    "\n",
    "print(\"Tính tiền nước sinh hoạt.\")\n",
    "so_nuoc = int(input(\"Nhập số lượng nước: \"))\n",
    "print(f\"Số tiền nước phải trả: {tinh_tien_nuoc(so_nuoc)}\")"
   ]
  },
  {
   "cell_type": "markdown",
   "id": "c0835310",
   "metadata": {},
   "source": [
    "## Lab 4 - Bài 2"
   ]
  },
  {
   "cell_type": "code",
   "execution_count": 2,
   "id": "fa9cb39f",
   "metadata": {},
   "outputs": [
    {
     "name": "stdout",
     "output_type": "stream",
     "text": [
      "Tính nguyên liệu làm bánh\n",
      "Tổng nguyên liệu cần để làm bánh: {'Đường': 0.76, 'Đậu': 0.4}\n"
     ]
    }
   ],
   "source": [
    "# Code lab 4  bài 2 ở đây\n",
    "from lab4 import tinh_nguyen_lieu\n",
    "\n",
    "print(\"Tính nguyên liệu làm bánh\")\n",
    "sl_bdx = int(input(\"Nhập số lượng bánh đậu xanh: \"))\n",
    "sl_btc = int(input(\"Nhập số lượng bánh thập cẩm: \"))\n",
    "sl_bd = int(input(\"Nhập số lượng bánh dẻo: \"))\n",
    "\n",
    "tong_nguyen_lieu = tinh_nguyen_lieu(sl_bdx, sl_btc, sl_bd)\n",
    "\n",
    "print(f\"Tổng nguyên liệu cần để làm bánh: {tong_nguyen_lieu}\")"
   ]
  },
  {
   "cell_type": "markdown",
   "id": "0f2483fe",
   "metadata": {},
   "source": [
    "## Lab 4 - Bài 3"
   ]
  },
  {
   "cell_type": "code",
   "execution_count": 5,
   "id": "7034990b",
   "metadata": {},
   "outputs": [
    {
     "name": "stdout",
     "output_type": "stream",
     "text": [
      "Thoát chương trình\n",
      "Các số chẵn có trong dãy:  [4, 6]\n"
     ]
    }
   ],
   "source": [
    "# Code lab 4  bài 3 ở đây\n",
    "my_list = []\n",
    "while True:\n",
    "    so = input(\"Nhập số:\")\n",
    "    if so.lower() == \"s\":\n",
    "        print(\"Thoát chương trình\")\n",
    "        break\n",
    "    else:\n",
    "        try:\n",
    "            my_list.append(int(so))\n",
    "            new_list = list(filter(lambda x: (x % 2 == 0), my_list))\n",
    "        except ValueError: \n",
    "            print(\"Số bạn nhập không phải số nguyên\")\n",
    "\n",
    "print(\"Các số chẵn có trong dãy: \", new_list)"
   ]
  },
  {
   "cell_type": "markdown",
   "id": "d36ea3d3",
   "metadata": {},
   "source": [
    "## Lab 4 - Bài 4"
   ]
  },
  {
   "cell_type": "code",
   "execution_count": 4,
   "id": "4c707ec1",
   "metadata": {},
   "outputs": [
    {
     "name": "stdout",
     "output_type": "stream",
     "text": [
      "===============MENU===============\n",
      "1: Tính tiền nước sinh hoạt\n",
      "2: Tính nguyên liệu làm bánh\n",
      "3: Kết thúc\n",
      "==================================\n",
      "Thoát chương trình.\n"
     ]
    }
   ],
   "source": [
    "# code lab 4 bài 4 ở đây\n",
    "from lab4 import tinh_tien_nuoc\n",
    "from lab4 import tinh_nguyen_lieu\n",
    "\n",
    "menu = {\n",
    "    1: \"Tính tiền nước sinh hoạt\",\n",
    "    2: \"Tính nguyên liệu làm bánh\",\n",
    "    3: \"Kết thúc\"\n",
    "}\n",
    "print(\"===\" * 5 + \"MENU\" + \"===\" * 5)\n",
    "for k, v in menu.items():\n",
    "    print(f\"{k}: {v}\")\n",
    "print(\"===\" * 5 + \"====\" + \"===\" * 5)\n",
    "\n",
    "while True:\n",
    "    lua_chon = int(input(\"Nhập chức năng chương trình: \"))\n",
    "\n",
    "    if lua_chon == 3:\n",
    "        print(\"Thoát chương trình.\")\n",
    "        break\n",
    "\n",
    "    elif lua_chon == 1:\n",
    "        print(\"Tính tiền nước sinh hoạt.\")\n",
    "        so_nuoc = int(input(\"Nhập số tiền nước\"))\n",
    "        print(f\"Tiền nước phải trả: {so_nuoc} là {tinh_tien_nuoc(so_nuoc)}\")\n",
    "\n",
    "    elif lua_chon == 2:\n",
    "        print(\"Tính nguyên liệu làm bánh.\")\n",
    "        sl_bdx = int(input(\"Nhập số lượng bánh đậu xanh: \"))\n",
    "        sl_btc = int(input(\"Nhập số lượng bánh thập cẩm: \"))\n",
    "        sl_bd = int(input(\"Nhập số lượng bánh dẻo: \"))\n",
    "        hop_banh = tinh_nguyen_lieu(sl_bdx, sl_btc, sl_bd)\n",
    "        print(f\"nguyên liệu cần chuẩn bị cho hộp bánh: {hop_banh}\")\n",
    "    else:\n",
    "        print(\"Chọn đúng chức năng chương trình hoặc nhâp 3 để thoát\")"
   ]
  },
  {
   "cell_type": "markdown",
   "id": "e2b41d4a",
   "metadata": {},
   "source": [
    "## Lab 4 - Bài 5: bài tập làm thêm"
   ]
  },
  {
   "cell_type": "code",
   "execution_count": 2,
   "id": "0e0172f7",
   "metadata": {},
   "outputs": [
    {
     "name": "stdout",
     "output_type": "stream",
     "text": [
      "===============MENU===============\n",
      "0: Thoát chương trình\n",
      "1: Phép tính cơ bản: Cộng, trừ, nhân, chia\n",
      "2: Lũy thừa: x^y\n",
      "3: Căn bậc hai\n",
      "4: Hàm lượng giác: Sin, cos, tan\n",
      "5: Logarit: Log cơ số 10, ln, log cơ số tùy chọn\n",
      "6: Giải phương trình bậc nhất\n",
      "7: Giải phương trình bậc hai\n",
      "8: Lịch sử: Lưu và xem lại các phép tính đã thực hiện\n",
      "9: Thời gian: Hiển thị thời gian hiện tại\n",
      "==================================\n",
      "Bạn hãy nhập số không nhập ký tự khác\n",
      "Bạn hãy nhập số không nhập ký tự khác\n",
      "Bạn hãy nhập số không nhập ký tự khác\n",
      "Bạn hãy nhập số không nhập ký tự khác\n",
      "Bạn hãy nhập số không nhập ký tự khác\n",
      "Bạn hãy nhập số không nhập ký tự khác\n",
      "Bạn hãy nhập số không nhập ký tự khác\n",
      "Bạn hãy nhập số không nhập ký tự khác\n",
      "Bạn hãy nhập số không nhập ký tự khác\n",
      "Tổng = 7.0\n",
      "Bạn hãy nhập số không nhập ký tự khác\n",
      "Bạn hãy nhập số không nhập ký tự khác\n",
      "Bạn hãy nhập số không nhập ký tự khác\n",
      "Bạn hãy nhập số không nhập ký tự khác\n",
      "Bạn hãy nhập số không nhập ký tự khác\n",
      "Thoát chương trình\n"
     ]
    }
   ],
   "source": [
    "# code lab 4  bài làm thêm ở đây \n",
    "from lab4 import *\n",
    "import math\n",
    "Lich_su = []\n",
    "menu = {\n",
    "    0: \"Thoát chương trình\",\n",
    "    1: \"Phép tính cơ bản: Cộng, trừ, nhân, chia\",\n",
    "    2: \"Lũy thừa: x^y\",\n",
    "    3: \"Căn bậc hai\",\n",
    "    4: \"Hàm lượng giác: Sin, cos, tan\",\n",
    "    5: \"Logarit: Log cơ số 10, ln, log cơ số tùy chọn\",\n",
    "    6: \"Giải phương trình bậc nhất\",\n",
    "    7: \"Giải phương trình bậc hai\",\n",
    "    8: \"Lịch sử: Lưu và xem lại các phép tính đã thực hiện\",\n",
    "    9: \"Thời gian: Hiển thị thời gian hiện tại\",\n",
    "}\n",
    "\n",
    "print(\"===\" * 5 + \"MENU\" + \"===\" * 5)\n",
    "for k, v in menu.items():\n",
    "    print(f\"{k}: {v}\")\n",
    "print(\"===\" * 5 + \"====\" + \"===\" * 5)\n",
    "\n",
    "while True:\n",
    "    try:\n",
    "        lua_chon = int(input(\"Nhập chức năng: \"))\n",
    "        if lua_chon == 0:\n",
    "            print(\"Thoát chương trình\")\n",
    "            break   \n",
    "        elif lua_chon == 1:\n",
    "            nhap_a = float(input(\"Nhập hệ số a: \"))\n",
    "            nhap_b = float(input(\"Nhập hệ số b: \"))\n",
    "            chon_chuc_nang = input(\"Nhập chọn chức năng: +, -, *, /\")\n",
    "\n",
    "            if chon_chuc_nang == \"+\":\n",
    "                print(f\"Tổng = {tong(nhap_a, nhap_b)}\")\n",
    "                Lich_su.append(f\"Phép tính cơ bản: Tổng = {tong(nhap_a, nhap_b)}\")\n",
    "\n",
    "            elif chon_chuc_nang == \"-\":\n",
    "                print(f\"Hiệu = {hieu(nhap_a, nhap_b)}\")\n",
    "                Lich_su.append(f\"Phép tính cơ bản: Hiệu = {hieu(nhap_a, nhap_b)}\")\n",
    "\n",
    "            elif chon_chuc_nang == \"*\":\n",
    "                print(f\"Tich = {tich(nhap_a, nhap_b)}\")\n",
    "                Lich_su.append(f\"Phép tính cơ bản: Tích = {tich(nhap_a, nhap_b)}\")\n",
    "\n",
    "            elif chon_chuc_nang == \"/\":\n",
    "                if nhap_b == 0:\n",
    "                    print(\"Không thể chia cho 0\")\n",
    "                else:\n",
    "                    print(f\"Thương = {thuong(nhap_a, nhap_b)}\")\n",
    "                    Lich_su.append(f\"Phép tính cơ bản: Thương = {thuong(nhap_a, nhap_b)}\")\n",
    "            else: \n",
    "                print(\"Nhập sai chức năng\")\n",
    "                \n",
    "\n",
    "        elif lua_chon == 2:\n",
    "            nhap_a = float(input(\"Nhập hệ số a: \"))\n",
    "            nhap_b = float(input(\"Nhập số mũ: \"))\n",
    "            print(f\"Lũy thừa của số {nhap_a} là {luy_thua(nhap_a, nhap_b)}\")\n",
    "            Lich_su.append(f\"Lũy thừa: {luy_thua(nhap_a, nhap_b)}\")\n",
    "\n",
    "        elif lua_chon == 3:\n",
    "            nhap_a = float(input(\"Nhập hệ số a: \"))\n",
    "            print(f\"căn bậc hai của {nhap_a} = {can_bac2(nhap_a)}\")\n",
    "            Lich_su.append(f\"Căn: {can_bac2(nhap_a)}\")\n",
    "\n",
    "        elif lua_chon == 4:   \n",
    "            try:\n",
    "                nhap_a = float(input(\"Nhập hệ số a: \"))\n",
    "                chon_chuc_nang = input(\"Chọn hàm lượng giác: Sin, Cos, Tan\\n\")\n",
    "                if chon_chuc_nang == \"Sin\":\n",
    "                    print(f\"Sin của số a là {sin(nhap_a)}\\n\")\n",
    "                    Lich_su.append(f\"Sin: {sin(nhap_a)}\")\n",
    "\n",
    "                elif chon_chuc_nang == \"Cos\":\n",
    "                    print(f\"Cos của số a là {cos(nhap_a)}\\n\")\n",
    "                    Lich_su.append(f\"Cos: {cos(nhap_a)}\")\n",
    "\n",
    "                elif chon_chuc_nang == \"Tan\":\n",
    "                    print(f\"Tan của số a là {tan(nhap_a)}\\n\")\n",
    "                    Lich_su.append(f\"Tan: {tan(nhap_a)}\")\n",
    "\n",
    "                else:\n",
    "                    print(\"Nhập sai chức năng\")\n",
    "            except ValueError:\n",
    "                print(\"Bạn hãy nhập số, không nhập ký tự khác\")\n",
    "\n",
    "        elif lua_chon == 5:\n",
    "            chon_chuc_nang = str(input(\"Chọn log10, ln, log cơ số tùy chọn: \"))\n",
    "            if chon_chuc_nang == \"log10\":\n",
    "                nhap_a = float(input(\"Nhập hệ số a: \"))\n",
    "                print(f\"Log cơ số 10 của số a là {log10(nhap_a)}\\n\")\n",
    "                Lich_su.append(f\"Log cơ số 10: {log10(nhap_a)}\")\n",
    "\n",
    "            elif chon_chuc_nang == \"ln\":\n",
    "                nhap_a = float(input(\"Nhập hệ số a: \"))\n",
    "                co_so_log = float(input(\"Nhập cơ số log: \"))\n",
    "                print(f\"Log cơ số tùy chọn của số {nhap_a} với cơ số {co_so_log} là {ln(nhap_a, co_so_log)}\\n\")\n",
    "                Lich_su.append(f\"Log cơ số tùy chọn: {ln(nhap_a, co_so_log)}\")\n",
    "\n",
    "            elif chon_chuc_nang == \"log\":\n",
    "                nhap_a = float(input(\"Nhập hệ số a: \"))\n",
    "                print(f\"Log của a là {log(nhap_a)}\\n\")\n",
    "                Lich_su.append(f\"Log: {log(nhap_a)}\")\n",
    "\n",
    "        elif lua_chon == 6:\n",
    "            nhap_a = float(input(\"Nhập hệ số a: \"))\n",
    "            nhap_b = float(input(\"Nhap hệ số b\"))\n",
    "            print(f\"Phương trình bậc nhất có nghiệm x = {pt_1(nhap_a, nhap_b)}\")\n",
    "            Lich_su.append(f\"Phương trình bậc nhất có nghiệm: x = {pt_1(nhap_a, nhap_b)}\")\n",
    "\n",
    "        elif lua_chon == 7:\n",
    "            nhap_a = float(input(\"Nhập hệ số a: \"))\n",
    "            nhap_b = float(input(\"Nhập hệ số b: \"))\n",
    "            nhap_c = float(input(\"Nhập hệ số c: \"))\n",
    "            print(f\"Nghiệm phương trình bậc hai là: {pt_2(nhap_a, nhap_b, nhap_c)}\")\n",
    "            Lich_su.append(f\"Phương trình bậc hai có nghiệm: {pt_2(nhap_a, nhap_b, nhap_c)}\")\n",
    "\n",
    "        elif lua_chon == 8:\n",
    "            print(f\"{xem_lich_su(lich_su = Lich_su)}\")\n",
    "\n",
    "        elif lua_chon == 9:\n",
    "            print(\"Thời gian hiện tại\", thoi_gian())\n",
    "\n",
    "        else:\n",
    "            print(\"Nhập sai chức năng, vui lòng nhập lại.\")\n",
    "    except ValueError:\n",
    "        print(\"Bạn hãy nhập số không nhập ký tự khác\")\n"
   ]
  }
 ],
 "metadata": {
  "kernelspec": {
   "display_name": "Python 3",
   "language": "python",
   "name": "python3"
  },
  "language_info": {
   "codemirror_mode": {
    "name": "ipython",
    "version": 3
   },
   "file_extension": ".py",
   "mimetype": "text/x-python",
   "name": "python",
   "nbconvert_exporter": "python",
   "pygments_lexer": "ipython3",
   "version": "3.12.6"
  }
 },
 "nbformat": 4,
 "nbformat_minor": 5
}
