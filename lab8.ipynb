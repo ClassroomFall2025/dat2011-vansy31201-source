{
 "cells": [
  {
   "cell_type": "markdown",
   "id": "fdeff819",
   "metadata": {},
   "source": [
    "# Sinh Viên thực hiện Lab 8 ở Đây"
   ]
  },
  {
   "cell_type": "markdown",
   "id": "acc5d7dc",
   "metadata": {},
   "source": [
    "## Lab 8 - Bài 1"
   ]
  },
  {
   "cell_type": "code",
   "execution_count": 44,
   "id": "001e0507",
   "metadata": {},
   "outputs": [
    {
     "name": "stdout",
     "output_type": "stream",
     "text": [
      "NGUYỄN ['Văn'] SỸ\n"
     ]
    }
   ],
   "source": [
    "# Code lab 8 bài 1 ở đây\n",
    "ho_ten = input(\"Nhập họ và tên: \")\n",
    "\n",
    "tach = ho_ten.split()\n",
    "ho = tach[0].upper()\n",
    "ten_dem = tach[1:-1]\n",
    "ten = tach[-1].upper()\n",
    "\n",
    "print(f\"{ho} {ten_dem} {ten}\")\n"
   ]
  },
  {
   "cell_type": "markdown",
   "id": "c0835310",
   "metadata": {},
   "source": [
    "## Lab 8 - Bài 2"
   ]
  },
  {
   "cell_type": "code",
   "execution_count": 13,
   "id": "fa9cb39f",
   "metadata": {},
   "outputs": [
    {
     "name": "stdout",
     "output_type": "stream",
     "text": [
      "Số điện thoại hợp lệ\n",
      "email hợp lệ\n",
      "Căn cước hợp lệ\n",
      "\n",
      "\n",
      "Ho và tên: Nguyễn Văn Sỹ\n",
      "Số điện thoai: 0902095573\n",
      "Địa chỉ email: vansy31201@gmail.com\n",
      "Căn cước công dân: 079201016293\n"
     ]
    }
   ],
   "source": [
    "# Code lab 8  bài 2 ở đây\n",
    "import re\n",
    "\n",
    "sinh_vien = {\n",
    "    \"Ho và tên\": ho_ten,\n",
    "    \"Số điện thoai\": sdt,\n",
    "    \"Địa chỉ email\": email,\n",
    "    \"Căn cước công dân\": cccd\n",
    "}\n",
    "\n",
    "ho_ten = input(\"Nhập họ và tên: \")\n",
    "sdt = input(\"Nhập số điện thoại: \")\n",
    "pattern_sdt = r\"^0\\d{9}$\"\n",
    "result_sdt = re.match(pattern_sdt, sdt)\n",
    "print(\"Số điện thoại hợp lệ\" if result_sdt else \"không hợp lệ\")\n",
    "\n",
    "email = input(\"Nhập địa chỉ email: \")\n",
    "pattern_email = r\"^[a-zA-Z0-9]+@[a-zA-Z0-9]+\\.[a-zA-Z0-9]{2,}$\"\n",
    "result_email = re.match(pattern_email, email)\n",
    "print(\"email hợp lệ\" if result_email else \"email không hợp lệ\")\n",
    "\n",
    "cccd = input(\"Nhập số căn cước công dân: \")\n",
    "pattern_cccd = r\"^(0[0-9])[0-9][0-9]{2}[0-9]{6}\"\n",
    "result_cccd = re.match(pattern_cccd, cccd)\n",
    "print(\"Căn cước hợp lệ\" if result_cccd else \"Căn cước không hợp lệ\")\n",
    "print(\"\\n\")\n",
    "for k, v in sinh_vien.items():\n",
    "    print(f\"{k}: {v}\")\n",
    "\n"
   ]
  },
  {
   "cell_type": "markdown",
   "id": "0f2483fe",
   "metadata": {},
   "source": [
    "## Lab 8 - Bài 3"
   ]
  },
  {
   "cell_type": "code",
   "execution_count": 24,
   "id": "7034990b",
   "metadata": {},
   "outputs": [
    {
     "name": "stdout",
     "output_type": "stream",
     "text": [
      "Đã tạo thành công!\n"
     ]
    }
   ],
   "source": [
    "# Code lab 8  bài 3 ở đây\n",
    "import random\n",
    "\n",
    "ds_so = [str(random.randint(0, 100)) for _ in range (1000000)]\n",
    "noi_dung = \" \".join(ds_so)\n",
    "with open(\"Danhsachsonguyen.txt\", \"w\", encoding=\"utf-8\") as f:\n",
    "    f.write(noi_dung)\n",
    "\n",
    "print(\"Đã tạo thành công!\")"
   ]
  },
  {
   "cell_type": "markdown",
   "id": "d36ea3d3",
   "metadata": {},
   "source": [
    "## Lab 8 - Bài 4"
   ]
  },
  {
   "cell_type": "code",
   "execution_count": 27,
   "id": "4c707ec1",
   "metadata": {},
   "outputs": [
    {
     "name": "stdout",
     "output_type": "stream",
     "text": [
      "Trung bình = 50.01637\n",
      "Độ lệch chuẩn = 29.13592824890628\n"
     ]
    }
   ],
   "source": [
    "# code lab 8 bài 4 ở đây\n",
    "import statistics as st\n",
    "with open(\"Danhsachsonguyen.txt\", \"r\", encoding=\"utf-8\") as f:\n",
    "    noi_dung = f.read()\n",
    "    # Biến chuỗi thành số nguyên, do khi ghi vào file bắt buộc ở dạng chuỗi\n",
    "    so = list(map(int, noi_dung.split()))\n",
    "    trung_binh = st.mean(so)\n",
    "    lech_chuan = st.stdev(so)\n",
    "\n",
    "    print(\"Trung bình =\", trung_binh)\n",
    "    print(\"Độ lệch chuẩn =\", lech_chuan)"
   ]
  },
  {
   "cell_type": "markdown",
   "id": "e2b41d4a",
   "metadata": {},
   "source": [
    "## Lab 8 - Bài 5: bài tập làm thêm"
   ]
  },
  {
   "cell_type": "code",
   "execution_count": null,
   "id": "0e0172f7",
   "metadata": {},
   "outputs": [],
   "source": [
    "# code lab 8  bài làm thêm ở đây "
   ]
  }
 ],
 "metadata": {
  "kernelspec": {
   "display_name": "Python 3",
   "language": "python",
   "name": "python3"
  },
  "language_info": {
   "codemirror_mode": {
    "name": "ipython",
    "version": 3
   },
   "file_extension": ".py",
   "mimetype": "text/x-python",
   "name": "python",
   "nbconvert_exporter": "python",
   "pygments_lexer": "ipython3",
   "version": "3.12.6"
  }
 },
 "nbformat": 4,
 "nbformat_minor": 5
}
