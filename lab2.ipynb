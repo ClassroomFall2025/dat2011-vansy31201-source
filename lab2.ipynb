{
 "cells": [
  {
   "cell_type": "markdown",
   "id": "fdeff819",
   "metadata": {},
   "source": [
    "# Sinh Viên thực hiện Lab 2 ở Đây"
   ]
  },
  {
   "cell_type": "markdown",
   "id": "acc5d7dc",
   "metadata": {},
   "source": [
    "## Lab 2 - Bài 1"
   ]
  },
  {
   "cell_type": "code",
   "execution_count": 1,
   "id": "001e0507",
   "metadata": {},
   "outputs": [
    {
     "name": "stdout",
     "output_type": "stream",
     "text": [
      "5\n",
      "True\n",
      "14\n"
     ]
    },
    {
     "data": {
      "text/plain": [
       "'CON NGƯỜI'"
      ]
     },
     "execution_count": 1,
     "metadata": {},
     "output_type": "execute_result"
    }
   ],
   "source": [
    "# Code lab 2 bài 1 ở đây\n",
    "Bài_Thơ = '''Kiếp con người mỏng manh như là gió \n",
    "Sống trên đời có được mấy lần vui\n",
    "Sao phải đau mà không thể mỉm cười\n",
    "Gắng buông nỗi ngậm ngùi nơi quá khứ\n",
    "\n",
    "Nếu có thể sao ta không làm thử \n",
    "Để tâm hồn khắc hai chữ bình an\n",
    "Cho đôi chân bước thanh thản nhẹ nhàng\n",
    "Dù hướng đời có muôn ngàn đá sỏi''' \n",
    "\n",
    "\n",
    "Tìm_kiếm = Bài_Thơ.find(\"con người\") \n",
    "print(Tìm_kiếm) \n",
    "\n",
    "print(\"con người\" in Bài_Thơ) \n",
    "\n",
    "Kết_Thúc = len(\"con người\") + Tìm_kiếm\n",
    "print(Kết_Thúc)\n",
    "Bài_Thơ[Tìm_kiếm:Kết_Thúc].upper()"
   ]
  },
  {
   "cell_type": "markdown",
   "id": "c0835310",
   "metadata": {},
   "source": [
    "## Lab 2 - Bài 2"
   ]
  },
  {
   "cell_type": "code",
   "execution_count": 2,
   "id": "fa9cb39f",
   "metadata": {},
   "outputs": [
    {
     "name": "stdout",
     "output_type": "stream",
     "text": [
      "Kiếp con người mỏng manh như là gió \n",
      "Sống trên đời có được mấy lần vui\n",
      "Sao phải đau mà không thể mỉm cười\n",
      "Gắng buông nỗi ngậm ngùi nơi quá khứ\n",
      "\n",
      "Nếu có thể sao ta không làm thử \n",
      "Để tâm hồn khắc hai chữ hạnh phúc\n",
      "Cho đôi chân bước thanh thản nhẹ nhàng\n",
      "Dù hướng đời có muôn ngàn đá sỏi\n",
      "\n",
      "\n",
      "\"...\n",
      "Kiếp con người mỏng manh như là gió \n",
      "Sống trên đời có được mấy lần vui\n",
      "Sao phải đau mà không thể mỉm cười\n",
      "Gắng buông nỗi ngậm ngùi nơi quá khứ\n",
      "\n",
      "Nếu có thể sao ta không làm thử \n",
      "Để tâm hồn khắc hai chữ bình an\n",
      "Cho đôi chân bước thanh thản nhẹ nhàng\n",
      "Dù hướng đời có muôn ngàn đá sỏi\n",
      "...\"\n"
     ]
    }
   ],
   "source": [
    "# Code lab 2  bài 2 ở đây\n",
    "Bài_Thơ = '''Kiếp con người mỏng manh như là gió \n",
    "Sống trên đời có được mấy lần vui\n",
    "Sao phải đau mà không thể mỉm cười\n",
    "Gắng buông nỗi ngậm ngùi nơi quá khứ\n",
    "\n",
    "Nếu có thể sao ta không làm thử \n",
    "Để tâm hồn khắc hai chữ bình an\n",
    "Cho đôi chân bước thanh thản nhẹ nhàng\n",
    "Dù hướng đời có muôn ngàn đá sỏi'''\n",
    "\n",
    "Đầu = '''\"...\\n'''\n",
    "Cuối = '''\\n...\"'''\n",
    "Hoàn_Chỉnh = Đầu + Bài_Thơ + Cuối\n",
    "\n",
    "print(Bài_Thơ.replace(\"bình an\", \"hạnh phúc\"))\n",
    "print(\"\\n\")\n",
    "print(Hoàn_Chỉnh)"
   ]
  },
  {
   "cell_type": "markdown",
   "id": "0f2483fe",
   "metadata": {},
   "source": [
    "## Lab 2 - Bài 3"
   ]
  },
  {
   "cell_type": "code",
   "execution_count": 5,
   "id": "7034990b",
   "metadata": {},
   "outputs": [
    {
     "name": "stdout",
     "output_type": "stream",
     "text": [
      "Phương trình có nghiệm x = -0.75\n"
     ]
    }
   ],
   "source": [
    "# Code lab 2  bài 3 ở đây\n",
    "HS_a = float(input(\"Nhập hệ số a: \"))\n",
    "HS_b = float(input(\"Nhập hệ số b: \"))\n",
    "\n",
    "if HS_a == 0:\n",
    "    if HS_b == 0:\n",
    "        print(\"Phương trình vô số nghiệm\")\n",
    "    else: \n",
    "        print(\"Phương trình vô nghiệm\")\n",
    "else:\n",
    "    print(f\"Phương trình có nghiệm x = {-HS_b/HS_a}\")"
   ]
  },
  {
   "cell_type": "markdown",
   "id": "d36ea3d3",
   "metadata": {},
   "source": [
    "## Lab 2 - Bài 4"
   ]
  },
  {
   "cell_type": "code",
   "execution_count": 6,
   "id": "4c707ec1",
   "metadata": {},
   "outputs": [
    {
     "name": "stdout",
     "output_type": "stream",
     "text": [
      "Phương trình nghiệm bậc nhất: -1.6666666666666667\n"
     ]
    }
   ],
   "source": [
    "# code lab 2 bài 4 ở đây\n",
    "# code lab 2 bài 4 ở đây\n",
    "import math\n",
    "HS_a = float(input(\"Nhập hệ số a: \"))\n",
    "HS_b = float(input(\"Nhập hệ số b: \"))\n",
    "HS_c = float(input(\"Nhập hệ số c: \"))\n",
    "\n",
    "if HS_a == 0:\n",
    "    x = -HS_b/HS_c\n",
    "    print(f\"Phương trình nghiệm bậc nhất: {x}\")\n",
    "else:\n",
    "    delta = HS_b * HS_b - 4 * HS_a * HS_c\n",
    "    if delta < 0:\n",
    "        print(\"Vô nghiệm\")\n",
    "    elif delta == 0:\n",
    "        x = -HS_b/(2*HS_a)\n",
    "    else:\n",
    "        print(\"Phương trình có 2 nghiệm phân biệt\")\n",
    "        x1 = (-HS_b + math.sqrt(delta))/(2*HS_a)\n",
    "        x2 = (-HS_b - math.sqrt(delta))/(2*HS_a)\n",
    "        print(f\"X1 = {x1}\")\n",
    "        print(f\"X2 = {x2}\")"
   ]
  },
  {
   "cell_type": "markdown",
   "id": "e2b41d4a",
   "metadata": {},
   "source": [
    "## Lab 2 - Bài 5: bài tập làm thêm"
   ]
  },
  {
   "cell_type": "code",
   "execution_count": 7,
   "id": "0e0172f7",
   "metadata": {},
   "outputs": [
    {
     "name": "stdout",
     "output_type": "stream",
     "text": [
      "tổng của hai số 3.0 + 6.0 = 9.0\n"
     ]
    }
   ],
   "source": [
    "# code lab 2  bài làm thêm ở đây \n",
    "import math\n",
    "so1 = float(input(\"Nhập số thứ nhất: \"))\n",
    "so2 = float(input(\"Nhập số thứ hai: \"))\n",
    "toantu = input(\"Nhập phép toán cần tính: +,-,*,/,^, Căn, Sin, Cos, Tan, Logarit\")\n",
    "\n",
    "if toantu == \"+\":\n",
    "    ketqua = so1 + so2\n",
    "    print(f\"tổng của hai số {so1} + {so2} = {ketqua}\")\n",
    "elif toantu == \"-\":\n",
    "    ketqua = so1 - so2\n",
    "    print(f\"Hiệu của hai số {so1} - {so2} = {ketqua}\")\n",
    "elif toantu == \"*\":\n",
    "    ketqua = so1 * so2\n",
    "    print(f\"Tích của hai số {so1} * {so2} = {ketqua}\")\n",
    "elif toantu == \"/\":\n",
    "    if so2 != 0:\n",
    "        ketqua = so1/so2\n",
    "        print(f\"thương 2 số {so1} / {so2} = {ketqua}\")\n",
    "    else:\n",
    "        print(\"Không thể chia cho 0\")\n",
    "elif toantu == \"^\":\n",
    "    ketqua = so1 ** so2\n",
    "    print(f\"Lũy thừa của số {so1} = {ketqua}\")\n",
    "elif toantu == \"Căn\":\n",
    "    ketqua = math.sqrt(so1)\n",
    "    print(f\"Căn bậc hai {so1} là {ketqua}\")\n",
    "elif toantu == \"Sin\":\n",
    "    ketqua = math.sin(so1)\n",
    "    print(f\"Sin của {so1} là {ketqua}\")\n",
    "elif toantu == \"Cos\":\n",
    "    ketqua = math.cos(so1)\n",
    "    print(f\"Cos của {so1} là {ketqua}\")\n",
    "elif toantu == \"Tan\":\n",
    "    ketqua = math.tan(so1)\n",
    "    print(f\"Tan của {so1} là {ketqua}\")\n",
    "elif toantu == \"Logarit\":\n",
    "    ketqua = math.log10(so1)\n",
    "    print(f\"Logarit của {so1} là {ketqua}\")\n",
    "else:\n",
    "    print(\"Toán tử không hợp lệ\")"
   ]
  },
  {
   "cell_type": "code",
   "execution_count": 8,
   "id": "7a5063b8",
   "metadata": {},
   "outputs": [
    {
     "name": "stdout",
     "output_type": "stream",
     "text": [
      "Số lớn nhất trong 3 số 8.0\n"
     ]
    }
   ],
   "source": [
    "# bài tìm số lớn nhất trong 3 số\n",
    "so1 = float(input(\"Nhập số 1: \"))\n",
    "so2 = float(input(\"Nhập số 2: \"))\n",
    "so3 = float(input(\"Nhập số 3: \"))\n",
    "max = so1 if so1 > so2 and so1 > so3 else so2 if so2 > so3 else so3 \n",
    "print(\"Số lớn nhất trong 3 số\", max)"
   ]
  }
 ],
 "metadata": {
  "kernelspec": {
   "display_name": "Python 3",
   "language": "python",
   "name": "python3"
  },
  "language_info": {
   "codemirror_mode": {
    "name": "ipython",
    "version": 3
   },
   "file_extension": ".py",
   "mimetype": "text/x-python",
   "name": "python",
   "nbconvert_exporter": "python",
   "pygments_lexer": "ipython3",
   "version": "3.12.6"
  }
 },
 "nbformat": 4,
 "nbformat_minor": 5
}
