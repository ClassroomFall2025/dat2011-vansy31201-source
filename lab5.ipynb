{
 "cells": [
  {
   "cell_type": "markdown",
   "id": "fdeff819",
   "metadata": {},
   "source": [
    "# Sinh Viên thực hiện Lab 5 ở Đây"
   ]
  },
  {
   "cell_type": "markdown",
   "id": "acc5d7dc",
   "metadata": {},
   "source": [
    "## Lab 5 - Bài 1"
   ]
  },
  {
   "cell_type": "code",
   "execution_count": 10,
   "id": "001e0507",
   "metadata": {},
   "outputs": [
    {
     "name": "stdout",
     "output_type": "stream",
     "text": [
      "Sản phẩm Trỗi, giá 20000, giá giảm 19500, thuế 2000.0\n"
     ]
    }
   ],
   "source": [
    "# Code lab 5 bài 1 ở đây\n",
    "from SanPham import *\n",
    "\n",
    "sp1 = SanPham(\"Trỗi\", 20000, 19500)\n",
    "sp1.xuat_tt()\n"
   ]
  },
  {
   "cell_type": "markdown",
   "id": "c0835310",
   "metadata": {},
   "source": [
    "## Lab 5 - Bài 2"
   ]
  },
  {
   "cell_type": "code",
   "execution_count": 3,
   "id": "fa9cb39f",
   "metadata": {},
   "outputs": [
    {
     "name": "stdout",
     "output_type": "stream",
     "text": [
      "Sản phẩm Bia, giá 10000.0, giá giảm 2000.0, thuế 1000.0\n",
      "Sản phẩm Ruou, giá 14000.0, giá giảm 11000.0, thuế 1400.0\n"
     ]
    }
   ],
   "source": [
    "# Code lab 5  bài 2 ở đây\n",
    "from SanPham import *\n",
    "\n",
    "sp1 = SanPham()\n",
    "sp1.nhap_sp()\n",
    "sp1.xuat_tt()\n",
    "sp2 = SanPham()\n",
    "sp2.nhap_sp()\n",
    "sp2.xuat_tt()"
   ]
  },
  {
   "cell_type": "markdown",
   "id": "0f2483fe",
   "metadata": {},
   "source": [
    "## Lab 5 - Bài 3"
   ]
  },
  {
   "cell_type": "code",
   "execution_count": 1,
   "id": "7034990b",
   "metadata": {},
   "outputs": [
    {
     "name": "stdout",
     "output_type": "stream",
     "text": [
      "Bia\n",
      "Sản phẩm Bia, giá 10000.0, giá giảm 2000.0, thuế 1000.0\n",
      "Sản phẩm Rượu, giá 10000.0, giá giảm 2000.0, thuế 1000.0\n"
     ]
    }
   ],
   "source": [
    "# Code lab 5  bài 3 ở đây\n",
    "from SanPham import *\n",
    "sp = SanPham()\n",
    "sp.nhap_sp()\n",
    "print(sp.get_ten_sp())\n",
    "sp.xuat_tt()\n",
    "\n",
    "sp.set_ten_sp(\"Rượu\")\n",
    "sp.xuat_tt()\n"
   ]
  },
  {
   "cell_type": "markdown",
   "id": "d36ea3d3",
   "metadata": {},
   "source": [
    "## Lab 5 - Bài 4"
   ]
  },
  {
   "cell_type": "code",
   "execution_count": 1,
   "id": "4c707ec1",
   "metadata": {},
   "outputs": [
    {
     "name": "stdout",
     "output_type": "stream",
     "text": [
      "Bia\n",
      "Sản phẩm Bia, giá 10000.0, giá giảm 2000.0, thuế 1000.0\n",
      "Ruỏu\n",
      "Sản phẩm Ruỏu, giá 14000.0, giá giảm 2000.0, thuế 1400.0\n"
     ]
    }
   ],
   "source": [
    "# code lab 5 bài 4 ở đây\n",
    "from SanPham import *\n",
    "\n",
    "sp1 = SanPham()\n",
    "sp1.nhap_sp()\n",
    "print(sp1.get_ten_sp())\n",
    "sp1.xuat_tt()\n",
    "\n",
    "sp2 = SanPham()\n",
    "sp2.nhap_sp()\n",
    "print(sp2.get_ten_sp())\n",
    "sp2.xuat_tt()"
   ]
  },
  {
   "cell_type": "markdown",
   "id": "e2b41d4a",
   "metadata": {},
   "source": [
    "## Lab 5 - Bài 5: bài tập làm thêm"
   ]
  },
  {
   "cell_type": "code",
   "execution_count": 4,
   "id": "0e0172f7",
   "metadata": {},
   "outputs": [
    {
     "name": "stdout",
     "output_type": "stream",
     "text": [
      "==========MENU==========\n",
      "0: Thoát chương trình\n",
      "1: Phép tính cơ bản: Cộng, trừ, nhân, chia\n",
      "2: Lũy thừa: x^y\n",
      "3: Căn bậc hai\n",
      "4: Hàm lượng giác: Sin, cos, tan\n",
      "5: Logarit: Log cơ số 10, ln, log cơ số tùy chọn\n",
      "6: Giải phương trình bậc nhất\n",
      "7: Giải phương trình bậc hai\n",
      "8: Lịch sử: Lưu và xem lại các phép tính đã thực hiện\n",
      "9: Thời gian: Hiển thị thời gian hiện tại\n",
      "========================\n",
      "Chương trình máy tính\n",
      "Hàm lượng giác Sin, Cos, Tan\n",
      "Chức năng không tồn tại!\n",
      "None\n",
      "==========MENU==========\n",
      "0: Thoát chương trình\n",
      "1: Phép tính cơ bản: Cộng, trừ, nhân, chia\n",
      "2: Lũy thừa: x^y\n",
      "3: Căn bậc hai\n",
      "4: Hàm lượng giác: Sin, cos, tan\n",
      "5: Logarit: Log cơ số 10, ln, log cơ số tùy chọn\n",
      "6: Giải phương trình bậc nhất\n",
      "7: Giải phương trình bậc hai\n",
      "8: Lịch sử: Lưu và xem lại các phép tính đã thực hiện\n",
      "9: Thời gian: Hiển thị thời gian hiện tại\n",
      "========================\n",
      "Chương trình máy tính\n",
      "Thoát chương trình\n"
     ]
    }
   ],
   "source": [
    "# code lab 5  bài làm thêm ở đây \n",
    "from maytinh import *\n",
    "maytinh = MayTinh(chuc_nang=0,lich_su_phep_tinh=[])\n",
    "menu = {\n",
    "    0: \"Thoát chương trình\",\n",
    "    1: \"Phép tính cơ bản: Cộng, trừ, nhân, chia\",\n",
    "    2: \"Lũy thừa: x^y\",\n",
    "    3: \"Căn bậc hai\",\n",
    "    4: \"Hàm lượng giác: Sin, cos, tan\",\n",
    "    5: \"Logarit: Log cơ số 10, ln, log cơ số tùy chọn\",\n",
    "    6: \"Giải phương trình bậc nhất\",\n",
    "    7: \"Giải phương trình bậc hai\",\n",
    "    8: \"Lịch sử: Lưu và xem lại các phép tính đã thực hiện\",\n",
    "    9: \"Thời gian: Hiển thị thời gian hiện tại\",\n",
    "}\n",
    "\n",
    "while True:\n",
    "    print(\"=\" * 10 + \"MENU\" + \"=\" * 10)\n",
    "    for k,v in menu.items():\n",
    "        print(f\"{k}: {v}\")\n",
    "    print(\"=\" * 10 + \"====\" + \"=\" * 10)\n",
    "    print(\"Chương trình máy tính\")\n",
    "    while True:\n",
    "        try: \n",
    "            lua_chon = int(input(\"Nhập lựa chọn: \"))\n",
    "            break\n",
    "        except ValueError:\n",
    "            print(\"Nhập sai lựa chọn, vui lòng nhập từ 1 - 9\")\n",
    "    match lua_chon:\n",
    "        case 0:\n",
    "            print(\"Thoát chương trình\")\n",
    "            break\n",
    "        case 1:\n",
    "            print(\"Phép tính cơ bản: Cộng, trừ, nhân, chia\")\n",
    "            maytinh.nhap_2_hs()\n",
    "            ket_qua = maytinh.phep_tinh_co_ban()\n",
    "            print(f\"{ket_qua}\")\n",
    "            \n",
    "\n",
    "        case 2:\n",
    "            print(\"Lũy thừa: x^y\")\n",
    "            maytinh.nhap_2_hs()\n",
    "            ket_qua = maytinh.luy_thua()\n",
    "            print(f\"{ket_qua}\")\n",
    "            \n",
    "\n",
    "        case 3:\n",
    "            print(\"Căn bậc hai\")\n",
    "            maytinh.nhap_1_hs()\n",
    "            ket_qua = maytinh.can()\n",
    "            print(f\"{ket_qua}\")\n",
    "            \n",
    "\n",
    "        case 4:\n",
    "            print(\"Hàm lượng giác Sin, Cos, Tan\")\n",
    "            maytinh.nhap_1_hs()\n",
    "            ket_qua = maytinh.ham_luong_giac()\n",
    "            print(f\"{ket_qua}\")\n",
    "            \n",
    "\n",
    "        case 5:\n",
    "            print(\"Logarit: Log cơ số 10, ln, log cơ số tùy chọn\")\n",
    "            maytinh.nhap_1_hs()\n",
    "            ket_qua = maytinh.logarit()\n",
    "            print(f\"{ket_qua}\")\n",
    "\n",
    "        case 6:\n",
    "            print(\"Giải phương trình bậc nhất\")\n",
    "            maytinh.nhap_2_hs()\n",
    "            ket_qua = maytinh.phuong_trinh_bac_nhat()\n",
    "            print(f\"{ket_qua}\")\n",
    "\n",
    "        case 7:\n",
    "            print(\"Giải phương trình bậc hai\")\n",
    "            maytinh.nhap_3_hs()\n",
    "            ket_qua = maytinh.phuong_trinh_bac_hai()\n",
    "            print(f\"{ket_qua}\")\n",
    "        \n",
    "        case 8:# không làm được\n",
    "            pass\n",
    "\n",
    "        case 9: # không làm được\n",
    "            pass\n",
    "\n",
    "        case _:\n",
    "            print(\"Lựa chọn không hợp lệ\")\n",
    "        "
   ]
  }
 ],
 "metadata": {
  "kernelspec": {
   "display_name": "Python 3",
   "language": "python",
   "name": "python3"
  },
  "language_info": {
   "codemirror_mode": {
    "name": "ipython",
    "version": 3
   },
   "file_extension": ".py",
   "mimetype": "text/x-python",
   "name": "python",
   "nbconvert_exporter": "python",
   "pygments_lexer": "ipython3",
   "version": "3.12.6"
  }
 },
 "nbformat": 4,
 "nbformat_minor": 5
}
