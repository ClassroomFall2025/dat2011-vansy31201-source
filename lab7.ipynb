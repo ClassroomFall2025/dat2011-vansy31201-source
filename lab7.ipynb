{
 "cells": [
  {
   "cell_type": "markdown",
   "id": "fdeff819",
   "metadata": {},
   "source": [
    "# Sinh Viên thực hiện Lab 7 ở Đây"
   ]
  },
  {
   "cell_type": "markdown",
   "id": "acc5d7dc",
   "metadata": {},
   "source": [
    "## Lab 7 - Bài 1"
   ]
  },
  {
   "cell_type": "code",
   "execution_count": 17,
   "id": "001e0507",
   "metadata": {},
   "outputs": [
    {
     "name": "stdout",
     "output_type": "stream",
     "text": [
      "Tự nguyện\n",
      "Trương Quốc Khánh\n",
      "Nếu là chim, tôi sẽ là loài bồ câu trắng\n",
      "Nếu là hoa, tôi sẽ là một đóa hướng dương\n",
      "Nếu là mây, tôi sẽ là một vầng mây ấm\n",
      "Là người, tôi sẽ chết cho quê hương.\n",
      "\n",
      "Là chim, tôi sẽ cất cao đôi cánh mềm\n",
      "Từ nam ra ngoài bắc báo tin nối liền\n",
      "Là hoa, tôi nở tình yêu ban sớm\n",
      "Cùng muôn trái tim ngất ngây hoà bình.\n",
      "\n",
      "Là mây, theo làn gió tung bay khắp trời\n",
      "Nghìn xưa oai hùng đó tôi xin tiếp lời\n",
      "Là người, xin một lần khi nằm xuống\n",
      "Nhìn anh em đứng lên phất cao ngọn cờ.\n"
     ]
    }
   ],
   "source": [
    "# Code lab 7 bài 1 ở đây\n",
    "file = open(\"DAT2011 - Lab 7 - Resource.txt\", \"r\", encoding=\"utf-8\")\n",
    "noidung = file.read()\n",
    "print(noidung)\n",
    "file.close()\n"
   ]
  },
  {
   "cell_type": "code",
   "execution_count": 40,
   "id": "e7bb101b",
   "metadata": {},
   "outputs": [
    {
     "name": "stdout",
     "output_type": "stream",
     "text": [
      "Trương Quốc Khánh\n",
      "\n"
     ]
    }
   ],
   "source": [
    "file = open(\"DAT2011 - Lab 7 - Resource.txt\", \"r\", encoding=\"utf-8\")\n",
    "noidung = file.readlines()\n",
    "print(noidung[1])\n",
    "file.close()"
   ]
  },
  {
   "cell_type": "markdown",
   "id": "c0835310",
   "metadata": {},
   "source": [
    "## Lab 7 - Bài 2"
   ]
  },
  {
   "cell_type": "code",
   "execution_count": 43,
   "id": "fa9cb39f",
   "metadata": {},
   "outputs": [],
   "source": [
    "# Code lab 7  bài 2 ở đây\n",
    "with open(\"Lab7-Excercise2.txt\", \"w\",encoding=\"utf-8\") as file:\n",
    "    file.write('''\"...\n",
    "Nếu một mai tôi có bay lên trời\n",
    "Thì người ơi tôi đã sống rất thảnh thơi\n",
    "Nếu một mai tôi có đi qua đời\n",
    "Thì người ơi tôi đã sống rất tuyệt vời\n",
    "...\"''')"
   ]
  },
  {
   "cell_type": "markdown",
   "id": "0f2483fe",
   "metadata": {},
   "source": [
    "## Lab 7 - Bài 3"
   ]
  },
  {
   "cell_type": "code",
   "execution_count": 11,
   "id": "7034990b",
   "metadata": {},
   "outputs": [
    {
     "name": "stdout",
     "output_type": "stream",
     "text": [
      "\n",
      "-----DANH SÁCH 5 BÀI THƠ-----\n",
      "\n",
      "\n",
      "-----DANH SÁCH 5 BÀI THƠ-----\n",
      "\n",
      "\n",
      "-----DANH SÁCH 5 BÀI THƠ-----\n",
      "\n",
      "\n",
      "-----DANH SÁCH 5 BÀI THƠ-----\n",
      "\n",
      "\n",
      "-----DANH SÁCH 5 BÀI THƠ-----\n",
      "\n",
      "\n",
      " Đã ghi 5 bài thơ vào file 'baitho.csv' thành công!\n"
     ]
    }
   ],
   "source": [
    "# Code lab 7  bài 3 ở đây\n",
    "import os\n",
    "# Nhập tên file csv\n",
    "file = input(\"Nhập file định dạng .csv: \")\n",
    "\n",
    "# kiểm tra file có tồn tại không:\n",
    "file_exist = os.path.exists(file)\n",
    "\n",
    "# Mở file: nếu chưa có thì tạo mới ('w') nếu có rồi thì ghi thêm 'a'\n",
    "mode = \"a\" if file_exist else \"w\"\n",
    "with open(file, mode, encoding=\"utf-8\") as f:\n",
    "    # Nếu file chưa tồn tại thì nhập Header\n",
    "    if not file_exist:\n",
    "        f.write(\"Tiêu đề,Tác Giả,Năm\\n\")\n",
    "\n",
    "    for i in range(5):\n",
    "        print(\"\\n-----DANH SÁCH 5 BÀI THƠ-----\\n\")\n",
    "        tieu_de = input(\"Nhập tiêu đề: \")\n",
    "        tac_gia = input(\"Nhập tên tác giả: \")\n",
    "        nam = input(\"Nhập năm xuất bản: \")\n",
    "\n",
    "        # Ghi một dòng CSV bằng f-string\n",
    "        line = f\"{tieu_de},{tac_gia},{nam}\\n\"\n",
    "        f.write(line)\n",
    "\n",
    "print(f\"\\n Đã ghi 5 bài thơ vào file '{file}' thành công!\")"
   ]
  },
  {
   "cell_type": "markdown",
   "id": "d36ea3d3",
   "metadata": {},
   "source": [
    "## Lab 7 - Bài 4"
   ]
  },
  {
   "cell_type": "code",
   "execution_count": 6,
   "id": "4c707ec1",
   "metadata": {},
   "outputs": [],
   "source": [
    "# code lab 7 bài 4 ở đây\n",
    "with open(\"DAT2011 - Lab 7 - Resource.xml\", \"w\", encoding=\"utf-8\") as f:\n",
    "    bai_tho = 'Tự nguyện'\n",
    "    tac_gia = 'Trương Quốc Khánh'\n",
    "    kho_1 = '''Nếu là chim, tôi sẽ là loài bồ câu trắng Nếu là hoa, tôi sẽ là một đóa hướng dương Nếu là mây, tôi sẽ là một vầng mây ấm  Là người, tôi sẽ chết cho quê hương.'''\n",
    "    kho_2 = '''Là chim, tôi sẽ cất cao đôi cánh mềm Từ nam ra ngoài bắc báo tin nối liền Là hoa, tôi nở tình yêu ban sớm Cùng muôn trái tim ngất ngây hoà bình.'''\n",
    "    kho_3 = '''Là mây, theo làn gió tung bay khắp trời Nghìn xưa oai hùng đó tôi xin tiếp lời Là người, xin một lần khi nằm xuống Nhìn anh em đứng lên phất cao ngọn cờ.'''\n",
    "    f.write(\"<songs>\\n\")\n",
    "    f.write(\" <songs>\\n\")\n",
    "    f.write(f\"  <name>{bai_tho}</name>\\n\")\n",
    "    f.write(f\"  <author>{tac_gia}</author>\\n\")\n",
    "    f.write(f\"  <section>{kho_1}</section>\\n\")\n",
    "    f.write(f\"  <section>{kho_2}</section>\\n\")\n",
    "    f.write(f\"  <section>{kho_3}</section>\\n\")\n",
    "    f.write(\" /<songs>\\n\")\n",
    "    f.write(\"</song>\\n\")\n",
    "\n"
   ]
  },
  {
   "cell_type": "markdown",
   "id": "e2b41d4a",
   "metadata": {},
   "source": [
    "## Lab 7 - Bài 5: bài tập làm thêm"
   ]
  },
  {
   "cell_type": "code",
   "execution_count": null,
   "id": "0e0172f7",
   "metadata": {},
   "outputs": [],
   "source": [
    "# code lab 7  bài làm thêm ở đây "
   ]
  }
 ],
 "metadata": {
  "kernelspec": {
   "display_name": "Python 3",
   "language": "python",
   "name": "python3"
  },
  "language_info": {
   "codemirror_mode": {
    "name": "ipython",
    "version": 3
   },
   "file_extension": ".py",
   "mimetype": "text/x-python",
   "name": "python",
   "nbconvert_exporter": "python",
   "pygments_lexer": "ipython3",
   "version": "3.12.6"
  }
 },
 "nbformat": 4,
 "nbformat_minor": 5
}
