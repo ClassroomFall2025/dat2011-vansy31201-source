{
 "cells": [
  {
   "cell_type": "markdown",
   "id": "fdeff819",
   "metadata": {},
   "source": [
    "# Sinh Viên thực hiện Lab 6 ở Đây"
   ]
  },
  {
   "cell_type": "markdown",
   "id": "acc5d7dc",
   "metadata": {},
   "source": [
    "## Lab 6 - Bài 1"
   ]
  },
  {
   "cell_type": "code",
   "execution_count": null,
   "id": "001e0507",
   "metadata": {},
   "outputs": [],
   "source": [
    "# Code lab 6 bài 1 ở đây\n",
    "from hinh import *\n",
    "vuong = HinhVuong(5)\n",
    "vuong.xuat_thong_tin()\n",
    "\n",
    "chu_nhat = HinhChuNhat(5,6)\n",
    "chu_nhat.tinh_dien_tich()\n",
    "\n"
   ]
  },
  {
   "cell_type": "markdown",
   "id": "c0835310",
   "metadata": {},
   "source": [
    "## Lab 6 - Bài 2"
   ]
  },
  {
   "cell_type": "code",
   "execution_count": null,
   "id": "fa9cb39f",
   "metadata": {},
   "outputs": [],
   "source": [
    "# Code lab 6  bài 2 ở đây"
   ]
  },
  {
   "cell_type": "markdown",
   "id": "0f2483fe",
   "metadata": {},
   "source": [
    "## Lab 6 - Bài 3"
   ]
  },
  {
   "cell_type": "code",
   "execution_count": null,
   "id": "7034990b",
   "metadata": {},
   "outputs": [],
   "source": [
    "# Code lab 6  bài 3 ở đây"
   ]
  },
  {
   "cell_type": "markdown",
   "id": "d36ea3d3",
   "metadata": {},
   "source": [
    "## Lab 6 - Bài 4"
   ]
  },
  {
   "cell_type": "code",
   "execution_count": 1,
   "id": "4c707ec1",
   "metadata": {},
   "outputs": [
    {
     "name": "stdout",
     "output_type": "stream",
     "text": [
      "====================MENU====================\n",
      "1: Nhập danh sách sinh viên\n",
      "2: Xuất thông tin danh sách sinh viên\n",
      "3: Xuất danh sách sinh viên có học lực giỏi\n",
      "4: Sắp xếp danh sách sinh viên theo điểm\n",
      "5: Kết thúc\n",
      "============================================\n",
      "Lựa chọn chức năng chương trình!\n",
      "Nhập danh sách sinh viên.\n",
      "\n",
      "====================MENU====================\n",
      "1: Nhập danh sách sinh viên\n",
      "2: Xuất thông tin danh sách sinh viên\n",
      "3: Xuất danh sách sinh viên có học lực giỏi\n",
      "4: Sắp xếp danh sách sinh viên theo điểm\n",
      "5: Kết thúc\n",
      "============================================\n",
      "Lựa chọn chức năng chương trình!\n",
      "Danh sách sinh viên trống.\n",
      "====================MENU====================\n",
      "1: Nhập danh sách sinh viên\n",
      "2: Xuất thông tin danh sách sinh viên\n",
      "3: Xuất danh sách sinh viên có học lực giỏi\n",
      "4: Sắp xếp danh sách sinh viên theo điểm\n",
      "5: Kết thúc\n",
      "============================================\n",
      "Lựa chọn chức năng chương trình!\n",
      "Chương trình kết thúc.\n"
     ]
    }
   ],
   "source": [
    "# code lab 6 bài 4 ở đây\n",
    "from sinhvienpoly import *\n",
    "from quanlysinhvien import *\n",
    "\n",
    "ql = QuanLySinhVien()\n",
    "menu = {\n",
    "    \"1\": \"Nhập danh sách sinh viên\",\n",
    "    \"2\": \"Xuất thông tin danh sách sinh viên\",\n",
    "    \"3\": \"Xuất danh sách sinh viên có học lực giỏi\",\n",
    "    \"4\": \"Sắp xếp danh sách sinh viên theo điểm\",\n",
    "    \"5\": \"Kết thúc\"\n",
    "}\n",
    "\n",
    "while True:\n",
    "    print(\"=\" * 20 +\"MENU\"+ \"=\" * 20)\n",
    "    for k, v in menu.items():\n",
    "        print(f\"{k}: {v}\")\n",
    "    print(\"=\"* 20 +\"====\"+\"=\" * 20)\n",
    "    print(\"Lựa chọn chức năng chương trình!\")\n",
    "    lua_chon = input(\"Nhập chức năng chương trình: \")\n",
    "    match lua_chon:\n",
    "        case \"5\":\n",
    "            print(\"Chương trình kết thúc.\")\n",
    "            break\n",
    "        case \"1\":\n",
    "            print(\"Nhập danh sách sinh viên.\\n\")\n",
    "            ql.nhap_danh_sach_sinh_vien()\n",
    "        case \"2\":\n",
    "            ql.xuat_danh_sach_sinh_vien()\n",
    "        case \"3\": \n",
    "            print(\"Xuất danh sách sinh viên.\")\n",
    "            ql.xuat_dssv_gioi()\n",
    "        case \"4\":\n",
    "            print(\"Sắp xếp danh sách sinh viên theo điểm.\")\n",
    "            ql.sap_xep_dssv()\n",
    "        case _: # khi không lựa chọn các case trên\n",
    "            print(\"Chưa chọn đúng chức năng chương trình.\")\n"
   ]
  },
  {
   "cell_type": "markdown",
   "id": "e2b41d4a",
   "metadata": {},
   "source": [
    "## Lab 6 - Bài 5: bài tập làm thêm"
   ]
  },
  {
   "cell_type": "code",
   "execution_count": null,
   "id": "0e0172f7",
   "metadata": {},
   "outputs": [],
   "source": [
    "# code lab 6  bài làm thêm ở đây "
   ]
  }
 ],
 "metadata": {
  "kernelspec": {
   "display_name": "Python 3",
   "language": "python",
   "name": "python3"
  },
  "language_info": {
   "codemirror_mode": {
    "name": "ipython",
    "version": 3
   },
   "file_extension": ".py",
   "mimetype": "text/x-python",
   "name": "python",
   "nbconvert_exporter": "python",
   "pygments_lexer": "ipython3",
   "version": "3.12.6"
  }
 },
 "nbformat": 4,
 "nbformat_minor": 5
}
