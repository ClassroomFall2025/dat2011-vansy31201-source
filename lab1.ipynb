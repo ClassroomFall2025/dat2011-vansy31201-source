{
 "cells": [
  {
   "cell_type": "markdown",
   "id": "fdeff819",
   "metadata": {},
   "source": [
    "# Sinh Viên thực hiện Lab 1 ở Đây"
   ]
  },
  {
   "cell_type": "markdown",
   "id": "acc5d7dc",
   "metadata": {},
   "source": [
    "## Lab 1 - Bài 1"
   ]
  },
  {
   "cell_type": "code",
   "execution_count": 5,
   "id": "001e0507",
   "metadata": {},
   "outputs": [
    {
     "name": "stdout",
     "output_type": "stream",
     "text": [
      "Xin chào!\n",
      "Tôi tên là Nguyễn Văn Sỹ\n",
      "Tôi đến từ Tp.HCM\n",
      "Tôi là sinh viên của trường cao Đẳng FPT Poly Technic\n",
      "Hiện tại tôi đang học môn lập trình Python\n"
     ]
    }
   ],
   "source": [
    "# Code lab 1 bài 1 ở đây\n",
    "print(\"Xin chào!\")\n",
    "print(\"Tôi tên là Nguyễn Văn Sỹ\")\n",
    "print(\"Tôi đến từ Tp.HCM\")\n",
    "print(\"Tôi là sinh viên của trường cao Đẳng FPT Poly Technic\")\n",
    "print(\"Hiện tại tôi đang học môn lập trình Python\")"
   ]
  },
  {
   "cell_type": "markdown",
   "id": "c0835310",
   "metadata": {},
   "source": [
    "## Lab 1 - Bài 2"
   ]
  },
  {
   "cell_type": "code",
   "execution_count": 8,
   "id": "fa9cb39f",
   "metadata": {},
   "outputs": [
    {
     "name": "stdout",
     "output_type": "stream",
     "text": [
      "Chu vi hình chữ nhật là: 16.0\n",
      "Diện tích hình chữ nhật là: 12.0\n"
     ]
    }
   ],
   "source": [
    "# Code lab 1  bài 2 ở đây\n",
    "ChieuDai = float(input(\"Nhập chiều dài: \"))\n",
    "ChieuRong = float(input(\"Nhập chiều rộng: \"))\n",
    "ChuVi = (ChieuDai + ChieuRong) * 2\n",
    "DienTich = ChieuDai * ChieuRong\n",
    "\n",
    "print(f\"Chu vi hình chữ nhật là: {ChuVi}\")\n",
    "print(f\"Diện tích hình chữ nhật là: {DienTich}\")"
   ]
  },
  {
   "cell_type": "markdown",
   "id": "0f2483fe",
   "metadata": {},
   "source": [
    "## Lab 1 - Bài 3"
   ]
  },
  {
   "cell_type": "code",
   "execution_count": 11,
   "id": "7034990b",
   "metadata": {},
   "outputs": [
    {
     "name": "stdout",
     "output_type": "stream",
     "text": [
      "\"...\n",
      "Sống không giận, không hờn không oán trách\n",
      "Sống mỉm cười, với thử thách chông gai\n",
      "Sống vươn lên, theo kịp ánh ban mai\n",
      "Sống chan hòa, với những người chung sống.\n",
      "\n",
      "Sống là động, nhưng lòng luôn bất động\n",
      "Sống là thương, nhưng lòng chẳng vấn vương\n",
      "Sống yên vui, danh lợi mãi coi thường\n",
      "Tâm bất biến, giữa dòng đời vạn biến.\n",
      "...\"\n"
     ]
    }
   ],
   "source": [
    "# Code lab 1  bài 3 ở đây\n",
    "Tu_Song = \"Sống\"\n",
    "print('\"...')\n",
    "print(f\"{Tu_Song} không giận, không hờn không oán trách\")\n",
    "print(f\"{Tu_Song} mỉm cười, với thử thách chông gai\")\n",
    "print(f\"{Tu_Song} vươn lên, theo kịp ánh ban mai\")\n",
    "print(f\"{Tu_Song} chan hòa, với những người chung sống.\")\n",
    "print(\"\")\n",
    "print(f\"{Tu_Song} là động, nhưng lòng luôn bất động\")\n",
    "print(f\"{Tu_Song} là thương, nhưng lòng chẳng vấn vương\")\n",
    "print(f\"{Tu_Song} yên vui, danh lợi mãi coi thường\")\n",
    "print(\"Tâm bất biến, giữa dòng đời vạn biến.\")\n",
    "print('...\"')"
   ]
  },
  {
   "cell_type": "markdown",
   "id": "d36ea3d3",
   "metadata": {},
   "source": [
    "## Lab 1 - Bài 4"
   ]
  },
  {
   "cell_type": "code",
   "execution_count": 24,
   "id": "4c707ec1",
   "metadata": {},
   "outputs": [
    {
     "name": "stdout",
     "output_type": "stream",
     "text": [
      "13.2664991614216\n"
     ]
    }
   ],
   "source": [
    "# code lab 1 bài 4 ở đây\n",
    "import math\n",
    "HeSo_a = float(input(\"Nhập hệ số a: \"))\n",
    "HeSo_b = float(input(\"Nhập hệ số b: \"))\n",
    "HeSo_c = float(input(\"Nhập hệ số c: \"))\n",
    "\n",
    "delta = HeSo_b * HeSo_b - 4 * HeSo_a * HeSo_c\n",
    "\n",
    "print(math.sqrt(abs(delta)))\n"
   ]
  },
  {
   "cell_type": "markdown",
   "id": "e2b41d4a",
   "metadata": {},
   "source": [
    "## Lab 1 - Bài 5: bài tập làm thêm"
   ]
  },
  {
   "cell_type": "code",
   "execution_count": 37,
   "id": "0e0172f7",
   "metadata": {},
   "outputs": [
    {
     "name": "stdout",
     "output_type": "stream",
     "text": [
      "Phép tính cộng: 10.0\n",
      "Phép tính trừ: 6.0\n",
      "Phép tính nhân: 16.0\n",
      "Phép tính chia: 4.0\n",
      "Lũy thừa 64.0\n",
      "Căn bậc hai 2.8284271247461903\n",
      "Sin: 0.9893582466233818\n",
      "Cos: -0.14550003380861354\n",
      "Tan: -6.799711455220379\n",
      "Logarit: 0.9030899869919435\n"
     ]
    }
   ],
   "source": [
    "# code lab 1  bài làm thêm ở đây \n",
    "import math\n",
    "HS_a = float(input(\"Nhập hệ số a: \"))\n",
    "HS_b = float(input(\"Nhập hệ số b: \"))\n",
    "\n",
    "Cộng = HS_a + HS_b\n",
    "trừ = HS_a - HS_b\n",
    "Nhân = HS_a * HS_b\n",
    "Chia = HS_a / HS_b\n",
    "Lũy_Thừa = HS_a ** HS_b\n",
    "Bậc_hai = math.sqrt(HS_a)\n",
    "Sin = math.sin(HS_a)\n",
    "Cos = math.cos(HS_a)\n",
    "Tan = math.tan(HS_a)\n",
    "Logarit = math.log10 (HS_a)\n",
    "\n",
    "print(f\"Phép tính cộng: {Cộng}\")\n",
    "print(f\"Phép tính trừ: {trừ}\")\n",
    "print(f\"Phép tính nhân: {Nhân}\")\n",
    "print(f\"Phép tính chia: {Chia}\")\n",
    "print(f\"Lũy thừa {Lũy_Thừa}\")\n",
    "print(f\"Căn bậc hai {Bậc_hai}\")\n",
    "print(f\"Sin: {Sin}\")\n",
    "print(f\"Cos: {Cos}\")\n",
    "print(f\"Tan: {Tan}\")\n",
    "print(f\"Logarit: {Logarit}\")\n"
   ]
  }
 ],
 "metadata": {
  "kernelspec": {
   "display_name": "Python 3",
   "language": "python",
   "name": "python3"
  },
  "language_info": {
   "codemirror_mode": {
    "name": "ipython",
    "version": 3
   },
   "file_extension": ".py",
   "mimetype": "text/x-python",
   "name": "python",
   "nbconvert_exporter": "python",
   "pygments_lexer": "ipython3",
   "version": "3.12.6"
  }
 },
 "nbformat": 4,
 "nbformat_minor": 5
}
