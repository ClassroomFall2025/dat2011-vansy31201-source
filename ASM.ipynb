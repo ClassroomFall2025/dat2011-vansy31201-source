{
 "cells": [
  {
   "cell_type": "markdown",
   "metadata": {},
   "source": [
    "## ASSIGNMENT GIAI ĐOẠN I"
   ]
  },
  {
   "cell_type": "code",
   "execution_count": 11,
   "metadata": {},
   "outputs": [
    {
     "name": "stdout",
     "output_type": "stream",
     "text": [
      "========================MENU CHƯƠNG TRÌNH=======================\n",
      "| 0 : Thoát chương trình                                       |\n",
      "| 1 : Nhập danh sách nhân viên từ bàn phím và lưu vào file     |\n",
      "| 2 : Đọc thông tin nhân viên từ file và xuất danh sách        |\n",
      "| 3 : Tìm kiếm nhân viên                                       |\n",
      "| 4 : Xóa nhân viên theo mã                                    |\n",
      "| 5 : Cập nhật thông tin nhân viên theo mã                     |\n",
      "| 6 : Sắp xếp danh sách nhân viên                              |\n",
      "| 7 : Xuất 5 nhân viên có thu nhập cao nhất                    |\n",
      "================================================================\n",
      "Lựa chọn không hợp lệ.\n",
      "Lựa chọn không hợp lệ.\n"
     ]
    }
   ],
   "source": [
    "from ASM import *\n",
    "\n",
    "menu_list = {\n",
    "    0: \"Thoát chương trình\",\n",
    "    1: \"Nhập danh sách nhân viên từ bàn phím và lưu vào file\",\n",
    "    2: \"Đọc thông tin nhân viên từ file và xuất danh sách\",\n",
    "    3: \"Tìm kiếm nhân viên\",\n",
    "    4: \"Xóa nhân viên theo mã\",\n",
    "    5: \"Cập nhật thông tin nhân viên theo mã\",\n",
    "    6: \"Sắp xếp danh sách nhân viên\",\n",
    "    7: \"Xuất 5 nhân viên có thu nhập cao nhất\"  \n",
    "}\n",
    "\n",
    "print(\"=\"*24+\"MENU CHƯƠNG TRÌNH\"+\"=\"*23)\n",
    "for key, value in menu_list.items():\n",
    "    print(f\"| {key} : {value} {(55 - len(value)) * ' '} |\")\n",
    "print(\"=\"*64)\n",
    "\n",
    "while True:\n",
    "    while True:\n",
    "        try:\n",
    "            lua_chon = int(input(\"Nhập lựa chọn của bạn từ 0 - 7: \"))\n",
    "            break\n",
    "        except ValueError:\n",
    "            print(\"Lựa chọn không hợp lệ,vui lòng nhập lại lựa chọn\")\n",
    "    match lua_chon:\n",
    "        case 0:\n",
    "            break\n",
    "        case 1:\n",
    "            nhap_ds_nv()\n",
    "            luu_file()\n",
    "        case 2:\n",
    "            doc_tu_file()\n",
    "            xuat_ds()\n",
    "        case 3:\n",
    "            tim_kiem_nhan_vien()\n",
    "        case 4:\n",
    "            xoa_nv_theo_ma()\n",
    "        case 5:\n",
    "            cap_nhat_tt_theo_ma()\n",
    "        case 6:\n",
    "            sap_xep_nv_()\n",
    "        case 7:\n",
    "            xuat_5_nv_thu_nhap_cao_nhat()\n",
    "        case _:\n",
    "            print(\"Lựa chọn không hợp lệ.\")"
   ]
  }
 ],
 "metadata": {
  "kernelspec": {
   "display_name": "Python 3",
   "language": "python",
   "name": "python3"
  },
  "language_info": {
   "codemirror_mode": {
    "name": "ipython",
    "version": 3
   },
   "file_extension": ".py",
   "mimetype": "text/x-python",
   "name": "python",
   "nbconvert_exporter": "python",
   "pygments_lexer": "ipython3",
   "version": "3.12.6"
  }
 },
 "nbformat": 4,
 "nbformat_minor": 2
}
